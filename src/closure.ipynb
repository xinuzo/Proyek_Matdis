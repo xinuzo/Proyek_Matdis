{
  "cells": [
    {
      "cell_type": "code",
      "execution_count": 22,
      "metadata": {
        "colab": {
          "base_uri": "https://localhost:8080/"
        },
        "id": "xhCwbv8NzDSP",
        "outputId": "ed329299-86d1-4517-ba66-3955c3979a04"
      },
      "outputs": [
        {
          "name": "stdout",
          "output_type": "stream",
          "text": [
            "Requirement already satisfied: adjust in /usr/local/lib/python3.11/dist-packages (0.1.0)\n",
            "Requirement already satisfied: texted in /usr/local/lib/python3.11/dist-packages (0b1)\n"
          ]
        }
      ],
      "source": [
        "!pip install adjust texted"
      ]
    },
    {
      "cell_type": "markdown",
      "metadata": {
        "id": "Pd7BcnZMLlmP"
      },
      "source": [
        "## Masalah 1 : Closure Relasi Simetris, Refleksif, Transitif "
      ]
    },
    {
      "cell_type": "code",
      "execution_count": null,
      "metadata": {
        "colab": {
          "base_uri": "https://localhost:8080/"
        },
        "id": "T4wZo1alK-hU",
        "outputId": "2f213db9-3f1f-4e86-97e3-95f33bbc1113"
      },
      "outputs": [
        {
          "name": "stdout",
          "output_type": "stream",
          "text": [
            "Himpunan S: {0, 1, 2, 3}\n",
            "\n",
            "Matriks Relasi Asli R:\n",
            "[[0 1 0 0]\n",
            " [0 0 1 1]\n",
            " [1 0 0 0]\n",
            " [0 0 0 0]]\n",
            "\n",
            "Matriks Closure Refleksif R* (R_ref):\n",
            "[[1 1 0 0]\n",
            " [0 1 1 1]\n",
            " [1 0 1 0]\n",
            " [0 0 0 1]]\n",
            "\n",
            "Matriks Closure Simetris R^s (R_sym):\n",
            "[[0 1 1 0]\n",
            " [1 0 1 1]\n",
            " [1 1 0 0]\n",
            " [0 1 0 0]]\n",
            "\n",
            "Matriks Closure Transitif R^t (R_trans):\n",
            "[[1 1 1 1]\n",
            " [1 1 1 1]\n",
            " [1 1 1 1]\n",
            " [0 0 0 0]]\n"
          ]
        }
      ],
      "source": [
        "import numpy as np\n",
        "\n",
        "def reflexive_closure(n, M):\n",
        "    \"\"\"\n",
        "    Menghitung closure refleksif dari relasi R pada himpunan S.\n",
        "    Closure refleksif dicapai dengan mengubah semua elemen diagonal matriks menjadi 1.\n",
        "\n",
        "    Input:\n",
        "        n (int): Kardinalitas himpunan S.\n",
        "        M (np.array): Matriks representasi relasi R (berukuran n x n).\n",
        "\n",
        "    Output:\n",
        "        np.array: Matriks yang merepresentasikan closure refleksif dari R.\n",
        "    \"\"\"\n",
        "    # Membuat salinan matriks agar tidak memodifikasi matriks asli\n",
        "    R_reflexive = M.copy()\n",
        "    # Mengatur semua elemen diagonal menjadi 1\n",
        "    np.fill_diagonal(R_reflexive, 1)\n",
        "    return R_reflexive\n",
        "\n",
        "def symmetric_closure(n, M):\n",
        "    \"\"\"\n",
        "    Menghitung closure simetris dari relasi R pada himpunan S.\n",
        "    Untuk setiap pasangan (i, j) yang bernilai 1, pastikan sel (j, i) juga bernilai 1.\n",
        "    Ini setara dengan menggabungkan M dengan transposenya (M U M^T).\n",
        "\n",
        "    Input :\n",
        "        n (int): Kardinalitas himpunan S.\n",
        "        M (np.array): Matriks representasi relasi R (berukuran n x n).\n",
        "\n",
        "    Output :\n",
        "        np.array: Matriks yang merepresentasikan closure simetris dari R.\n",
        "    \"\"\"\n",
        "    # Membuat salinan matriks\n",
        "    R_symmetric = M.copy()\n",
        "    # Menambahkan elemen (j,i) jika (i,j) ada.\n",
        "    # Ini dapat dicapai dengan operasi OR bitwise antara M dan transposenya.\n",
        "    R_symmetric = R_symmetric | R_symmetric.T\n",
        "    return R_symmetric\n",
        "\n",
        "def transitive_closure(n, M):\n",
        "    \"\"\"\n",
        "    Menghitung closure transitif dari relasi R pada himpunan S menggunakan\n",
        "    Algoritma Warshall.\n",
        "    Jika ada jalur dari a ke b dan dari b ke c, maka harus ada jalur dari a ke c.\n",
        "\n",
        "    Input :\n",
        "        n (int): Kardinalitas himpunan S.\n",
        "        M (np.array): Matriks representasi relasi R (berukuran n x n).\n",
        "\n",
        "    Output :\n",
        "        np.array: Matriks yang merepresentasikan closure transitif dari R.\n",
        "    \"\"\"\n",
        "    # Membuat salinan matriks untuk working matrix\n",
        "    R_transitive = M.copy()\n",
        "\n",
        "    # Iterasi melalui setiap kemungkinan titik tengah 'k'\n",
        "    for k in range(n):\n",
        "        # Iterasi melalui setiap baris 'i'\n",
        "        for i in range(n):\n",
        "            # Iterasi melalui setiap kolom 'j'\n",
        "            for j in range(n):\n",
        "                # Jika ada relasi dari i ke k DAN dari k ke j,\n",
        "                # maka harus ada relasi dari i ke j.\n",
        "                # Menggunakan OR bitwise (|) untuk logika \"atau\" (True jika salah satu True)\n",
        "                R_transitive[i, j] = R_transitive[i, j] | (R_transitive[i, k] & R_transitive[k, j])\n",
        "    return R_transitive\n",
        "\n",
        "# --- Contoh Penggunaan Masalah 1 ---\n",
        "\n",
        "# 1. Kardinalitas Himpunan S\n",
        "cardinality_S = 4\n",
        "# Merepresentasikan Himpunan S dengan set (untuk demonstrasi, tidak digunakan langsung dalam operasi matriks)\n",
        "S = set(range(cardinality_S))\n",
        "print(f\"Himpunan S: {S}\")\n",
        "\n",
        "# 2. Matriks Relasi R pada S\n",
        "# Contoh relasi R: (0,1), (1,2), (2,0), (1,3)\n",
        "# Ini adalah contoh matriks relasi 4x4.\n",
        "# 1 merepresentasikan relasi, 0 merepresentasikan tidak ada relasi.\n",
        "R_matrix = np.array([\n",
        "    [0, 1, 0, 0],\n",
        "    [0, 0, 1, 1],\n",
        "    [1, 0, 0, 0],\n",
        "    [0, 0, 0, 0]\n",
        "], dtype=int) #  untuk dtype=int, jika tidak, operasi bitwise akan error\n",
        "\n",
        "print(\"\\nMatriks Relasi Asli R:\")\n",
        "print(R_matrix)\n",
        "\n",
        "# 1. Closure Refleksif\n",
        "R_reflexive = reflexive_closure(cardinality_S, R_matrix)\n",
        "print(\"\\nMatriks Closure Refleksif R* (R_ref):\")\n",
        "print(R_reflexive)\n",
        "\n",
        "# 2. Closure Simetris\n",
        "R_symmetric = symmetric_closure(cardinality_S, R_matrix)\n",
        "print(\"\\nMatriks Closure Simetris R^s (R_sym):\")\n",
        "print(R_symmetric)\n",
        "\n",
        "# 3. Closure Transitif\n",
        "R_transitive = transitive_closure(cardinality_S, R_matrix)\n",
        "print(\"\\nMatriks Closure Transitif R^t (R_trans):\")\n",
        "print(R_transitive)\n"
      ]
    }
  ],
  "metadata": {
    "colab": {
      "provenance": []
    },
    "kernelspec": {
      "display_name": "Python 3",
      "name": "python3"
    },
    "language_info": {
      "name": "python"
    }
  },
  "nbformat": 4,
  "nbformat_minor": 0
}
